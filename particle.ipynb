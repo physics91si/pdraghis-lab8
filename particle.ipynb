{
 "cells": [
  {
   "cell_type": "code",
   "execution_count": 17,
   "metadata": {
    "collapsed": true
   },
   "outputs": [],
   "source": [
    "# Physics 91SI\n",
    "# Spring 2015\n",
    "# Lab 7\n",
    "\n",
    "import numpy as np\n",
    "\n",
    "class Particle:\n",
    "    \"\"\"Stores information about a particle with mass, position, and velocity.\"\"\"\n",
    "    \n",
    "    def __init__(self, Position, M):\n",
    "        \"\"\"Create a particle with position (numpy array of len 2) and mass.\"\"\"\n",
    "        self.pos = Position   # Sets x position\n",
    "        self.m = M  # Sets mass\n",
    "        # Initial velocity and acceleration set to be zero\n",
    "        self.vel = np.zeros((2,))\n",
    "        self.acc = np.zeros((2,))"
   ]
  },
  {
   "cell_type": "code",
   "execution_count": 35,
   "metadata": {
    "collapsed": true
   },
   "outputs": [],
   "source": [
    "class Molecule:\n",
    "        def __init__(self, pos1 ,m1,pos2,m2,k,L0):\n",
    "            self.p1=Particle(pos1,m1)\n",
    "            self.p2=Particle(pos2,m2)\n",
    "            self.k=k\n",
    "            self.L0=L0\n",
    "        def get_displ(self):\n",
    "            return [self.p2.pos[0]-self.p1.pos[0],self.p2.pos[1]-self.p1.pos[1]]\n",
    "        def get_force(self):\n",
    "            return [self.k*self.p1.m*self.get_displ()[0]/((self.get_displ()[0]**2+self.get_displ()[1]**2)**0.5),self.k*self.p1.m*self.get_displ()[1]/((self.get_displ()[0]**2+self.get_displ()[1]**2)**0.5)]\n"
   ]
  },
  {
   "cell_type": "code",
   "execution_count": 36,
   "metadata": {
    "collapsed": false
   },
   "outputs": [
    {
     "data": {
      "text/plain": [
       "[223.60679774997897, 447.21359549995793]"
      ]
     },
     "execution_count": 36,
     "metadata": {},
     "output_type": "execute_result"
    }
   ],
   "source": [
    "m=Molecule((1,1),50,(3,5),60,10,20)\n",
    "m.get_force()"
   ]
  },
  {
   "cell_type": "code",
   "execution_count": 16,
   "metadata": {
    "collapsed": false
   },
   "outputs": [
    {
     "data": {
      "text/plain": [
       "0.96199763508436"
      ]
     },
     "execution_count": 16,
     "metadata": {},
     "output_type": "execute_result"
    }
   ],
   "source": [
    "np.random.rand()"
   ]
  },
  {
   "cell_type": "code",
   "execution_count": null,
   "metadata": {
    "collapsed": true
   },
   "outputs": [],
   "source": []
  }
 ],
 "metadata": {
  "kernelspec": {
   "display_name": "Python 2",
   "language": "python",
   "name": "python2"
  },
  "language_info": {
   "codemirror_mode": {
    "name": "ipython",
    "version": 2
   },
   "file_extension": ".py",
   "mimetype": "text/x-python",
   "name": "python",
   "nbconvert_exporter": "python",
   "pygments_lexer": "ipython2",
   "version": "2.7.11"
  }
 },
 "nbformat": 4,
 "nbformat_minor": 0
}
